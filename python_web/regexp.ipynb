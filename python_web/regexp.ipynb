{
 "cells": [
  {
   "cell_type": "markdown",
   "metadata": {},
   "source": [
    "# Поиск с помощью регулярных выражений\n",
    "\n",
    "Ещё документация по регулярным выражениям: https://habr.com/post/349860/"
   ]
  },
  {
   "cell_type": "markdown",
   "metadata": {},
   "source": [
    "`\\d` - цифра от 0 до 9;     \n",
    "`\\D` - что угодно, кроме цифр;     \n",
    "`.` - в этом месте может находиться что угодно, кроме перевода строки `\\n`;     \n",
    "`+` - идущий перед ним символ может повторяться 1 или более раз;          \n",
    "`*` - идущий перед ним символ может повторяться 0 или более раз;   \n",
    "`?` - идущий перед ним символ может повторяться 0 или 1 раз."
   ]
  },
  {
   "cell_type": "markdown",
   "metadata": {},
   "source": [
    "`a\\db = a0b, a1b, ..., a9b` <= между символами `a` и `b` обязана находиться одна цифра.       \n",
    "`a\\Db = azb, aab, a_b, a b, ...` <= между символами `a` и `b` должен находиться один символ и он обязан быть не цифрой.      \n",
    "`a.b = a0b, a1b, aab, a b, a_b, ...` <= между символами `a` и `b` должен находиться любой символ, но только один.     \n",
    "`a\\d?b = ab, a5b, ...` <= между символами `a` и `b` должна находиться 1 цифра либо ничего.    \n",
    "`a.*b = ab, a123XYZb, ...` <= между символами `a` и `b` может находиться что угодно в любом количестве.     \n"
   ]
  },
  {
   "cell_type": "code",
   "execution_count": 1,
   "metadata": {},
   "outputs": [],
   "source": [
    "import re\n",
    "html = 'Курс евро на сегодня 68,7514, курс евро на завтра 67,8901'\n",
    "# Проверяется только первое вхождение (как только находим - записываем в переменную)\n",
    "match = re.search('Евро\\D+(\\d+,\\d+)', html)"
   ]
  },
  {
   "cell_type": "code",
   "execution_count": 2,
   "metadata": {},
   "outputs": [
    {
     "data": {
      "text/plain": [
       "'68,7514'"
      ]
     },
     "execution_count": 2,
     "metadata": {},
     "output_type": "execute_result"
    }
   ],
   "source": [
    "re.search(r'Евро.*?(\\d+,\\d+)', html, re.IGNORECASE).group(1)\n",
    "# Нашли первый курс"
   ]
  },
  {
   "cell_type": "code",
   "execution_count": 3,
   "metadata": {},
   "outputs": [
    {
     "data": {
      "text/plain": [
       "['68,7514', '67,8901']"
      ]
     },
     "execution_count": 3,
     "metadata": {},
     "output_type": "execute_result"
    }
   ],
   "source": [
    "re.findall(r'Евро\\D+(\\d+,\\d+)', html, re.IGNORECASE)\n",
    "# Нашли оба курса"
   ]
  },
  {
   "cell_type": "code",
   "execution_count": 4,
   "metadata": {},
   "outputs": [
    {
     "data": {
      "text/plain": [
       "['евро на сегодня 68', 'евро на завтра 67']"
      ]
     },
     "execution_count": 4,
     "metadata": {},
     "output_type": "execute_result"
    }
   ],
   "source": [
    "# Если группы не будет (запись без скобочек), то вывод будет всего, что попадёт под регулярные выражения\n",
    "re.findall(r'Евро\\D+\\d+\\d+', html, re.IGNORECASE)"
   ]
  },
  {
   "cell_type": "code",
   "execution_count": 5,
   "metadata": {},
   "outputs": [
    {
     "data": {
      "text/plain": [
       "[('68', '7514'), ('67', '8901')]"
      ]
     },
     "execution_count": 5,
     "metadata": {},
     "output_type": "execute_result"
    }
   ],
   "source": [
    "# Если групп будет несколько, то findall вернёт список кортежей\n",
    "re.findall(r'Евро\\D+(\\d+),(\\d+)', html, re.IGNORECASE)\n",
    "\n",
    "# В каждом из кортежей будут значения всех групп указанных выражений"
   ]
  },
  {
   "cell_type": "code",
   "execution_count": 6,
   "metadata": {},
   "outputs": [
    {
     "data": {
      "text/plain": [
       "[('68,7514', '68', '7514'), ('67,8901', '67', '8901')]"
      ]
     },
     "execution_count": 6,
     "metadata": {},
     "output_type": "execute_result"
    }
   ],
   "source": [
    "# Во вложенных кортежах группы нумеруются по открывающимся скобкам\n",
    "re.findall(r'Евро\\D+((\\d+),(\\d+))', html, re.IGNORECASE)"
   ]
  },
  {
   "cell_type": "markdown",
   "metadata": {},
   "source": [
    "# Символьные классы"
   ]
  },
  {
   "cell_type": "markdown",
   "metadata": {},
   "source": [
    "`[abcd1234] = [a-d1-4]` - один символ из множества;    \n",
    "`\\d = [0123456789] = [0-9]` - символьный класс, в который входят все цифры;    \n",
    "`\\D = [ˆ\\d] = [ˆ0-9]` - символьный класс, в который **не** входят цифры;   \n",
    "\n",
    "`a\\d{2}c` - предыдущий символ должен повторяться ровно 2 раза;      \n",
    "`a\\d{,2}c` - предыдущий символ должен повторяться от 0 до 2 раз;      \n",
    "\n",
    "`* = {0; inf}; + = {1; inf}; ? = {0; 1}`     "
   ]
  },
  {
   "cell_type": "markdown",
   "metadata": {},
   "source": [
    "`\\w = [a-zA-Z_0-9] + юникод` - буква, цифра и знак подчёркивания;     \n",
    "`\\W = [ˆ\\w]` - может стоять что угодно, кроме букв, цифр и знаков подчёркивания;    \n",
    "`\\s` - пробел;    \n",
    "`\\S` - не пробел.\n"
   ]
  },
  {
   "cell_type": "code",
   "execution_count": 10,
   "metadata": {},
   "outputs": [],
   "source": [
    "# Применяем метод re.compile, который позволяет один раз скомпилировать регулярное выражение,\n",
    "# и потом несколько раз его использовать\n",
    "# Удобно, чтобы несколько раз в большом коде или цикле не комплировать регулярное выражение заново."
   ]
  },
  {
   "cell_type": "markdown",
   "metadata": {},
   "source": [
    "### 1. Попробуем найти автомобильные номера в тексте"
   ]
  },
  {
   "cell_type": "markdown",
   "metadata": {},
   "source": [
    "*Структура автомобильного номера*  \n",
    "\n",
    "Номер: буква, 3 цифры, 2 буквы, 2-3 цифры;           \n",
    "Буква не любая, а только [АВЕКМНОРСТУХ];     \n",
    "`re.findall(pattern, where, re.IGNORECASE)`"
   ]
  },
  {
   "cell_type": "code",
   "execution_count": 7,
   "metadata": {},
   "outputs": [
    {
     "data": {
      "text/plain": [
       "['А123ВС77', 'К654НЕ197', 'М542ОР777', 'О007ОО77']"
      ]
     },
     "execution_count": 7,
     "metadata": {},
     "output_type": "execute_result"
    }
   ],
   "source": [
    "import re\n",
    "text = '''\n",
    "Автомобиль с номером А123ВС77 подрезал автомобиль К654НЕ197, спровоцировав ДТП \n",
    "с участием еще двух иномарок с номерами М542ОР777 и О007ОО77\n",
    "'''\n",
    "\n",
    "# Сначала должны идти буквы из списка, потом ровно три цифры,\n",
    "# затем снова буквы из списка, но они должны повторяться два раза.\n",
    "# Затем должны быть две или три цифры. \n",
    "pattern = r'[АВЕКМНОРСТУХ]\\d{3}[АВЕКМНОРСТУХ]{2}\\d{2,3}'\n",
    "re.findall(pattern, text)"
   ]
  },
  {
   "cell_type": "markdown",
   "metadata": {},
   "source": [
    "### 2. Поиск женских имён в тексте"
   ]
  },
  {
   "cell_type": "code",
   "execution_count": 13,
   "metadata": {},
   "outputs": [
    {
     "data": {
      "text/plain": [
       "['Анна', 'Лена', 'Яна', 'Ильна']"
      ]
     },
     "execution_count": 13,
     "metadata": {},
     "output_type": "execute_result"
    }
   ],
   "source": [
    "# Применяем метод re.compile, который позволяет один раз скомпилировать регулярное выражение,\n",
    "# и потом несколько раз его использовать\n",
    "# Удобно, чтобы несколько раз в большом коде или цикле не комплировать регулярное выражение заново.\n",
    "\n",
    "import re\n",
    "text = (\n",
    "    'Анна и Лена загорали на берегу океана, '\n",
    "    'когда к ним подошли Яна и Ильнар'\n",
    ")\n",
    "re.findall(r'[А-Я]\\w*на', text) # после каких-то букв в тексте ищем \"на\""
   ]
  },
  {
   "cell_type": "markdown",
   "metadata": {},
   "source": [
    "Чтобы Ильна не было, добавим границы слова. Это будет означать, что ищем слово, которое *заканчивается* на \"на\".     \n",
    "В начало и в конец регулярного выражения добавляем `\\b`."
   ]
  },
  {
   "cell_type": "code",
   "execution_count": 14,
   "metadata": {},
   "outputs": [
    {
     "data": {
      "text/plain": [
       "['Анна', 'Лена', 'Яна']"
      ]
     },
     "execution_count": 14,
     "metadata": {},
     "output_type": "execute_result"
    }
   ],
   "source": [
    "import re\n",
    "text = (\n",
    "    'Анна и Лена загорали на берегу океана, '\n",
    "    'когда к ним подошли Яна и Ильнар'\n",
    ")\n",
    "re.findall(r'[А-Я]\\w*на\\b', text) # после каких-то букв в тексте ищем \"на\""
   ]
  },
  {
   "cell_type": "code",
   "execution_count": 15,
   "metadata": {},
   "outputs": [
    {
     "data": {
      "text/plain": [
       "['Анна', 'Лена', 'Яна']"
      ]
     },
     "execution_count": 15,
     "metadata": {},
     "output_type": "execute_result"
    }
   ],
   "source": [
    "import re\n",
    "text = (\n",
    "    'Анна и Лена загорали на берегу океана, '\n",
    "    'когда к ним подошли Яна, ПОЛИНА и Ильнар'\n",
    ")\n",
    "re.findall(r'[А-Я]\\w*на\\b', text)\n",
    "\n",
    "# ПОЛИНА не нашлась, потому что мы ищем только те слова на маленькие буквы"
   ]
  },
  {
   "cell_type": "markdown",
   "metadata": {},
   "source": [
    "Чтобы можно было найти имена, написанные и с маленьких букв, и с больших - напишем **группу**, в которой будут *на* и *НА*:"
   ]
  },
  {
   "cell_type": "code",
   "execution_count": 18,
   "metadata": {},
   "outputs": [
    {
     "data": {
      "text/plain": [
       "['на', 'на', 'на', 'НА']"
      ]
     },
     "execution_count": 18,
     "metadata": {},
     "output_type": "execute_result"
    }
   ],
   "source": [
    "import re\n",
    "text = (\n",
    "    'Анна и Лена загорали на берегу океана, '\n",
    "    'когда к ним подошли Яна, ПОЛИНА и Ильнар'\n",
    ")\n",
    "re.findall(r'[А-Я]\\w*(на|НА)\\b', text)"
   ]
  },
  {
   "cell_type": "markdown",
   "metadata": {},
   "source": [
    "Поставим `?:`. Это будет означать, что то, что находится в группе, группируется, но не запоминается."
   ]
  },
  {
   "cell_type": "code",
   "execution_count": 20,
   "metadata": {},
   "outputs": [
    {
     "data": {
      "text/plain": [
       "['Анна', 'Лена', 'Яна', 'ПОЛИНА']"
      ]
     },
     "execution_count": 20,
     "metadata": {},
     "output_type": "execute_result"
    }
   ],
   "source": [
    "import re\n",
    "text = (\n",
    "    'Анна и Лена загорали на берегу океана, '\n",
    "    'когда к ним подошли Яна, ПОЛИНА и Ильнар'\n",
    ")\n",
    "re.findall(r'[А-Я]\\w*(?:на|НА)\\b', text) # после каких-то букв в тексте ищем \"на\""
   ]
  },
  {
   "cell_type": "markdown",
   "metadata": {},
   "source": [
    "### 3."
   ]
  },
  {
   "cell_type": "code",
   "execution_count": 28,
   "metadata": {},
   "outputs": [
    {
     "data": {
      "text/plain": [
       "'К?к з?щитить мет?лл от коррозии?'"
      ]
     },
     "execution_count": 28,
     "metadata": {},
     "output_type": "execute_result"
    }
   ],
   "source": [
    "import re\n",
    "text = 'Как защитить металл от коррозии?'\n",
    "\n",
    "# Заменяем все буквы \"а\" знаками вопроса\n",
    "re.sub(r'а', '?', text)"
   ]
  },
  {
   "cell_type": "code",
   "execution_count": 33,
   "metadata": {},
   "outputs": [
    {
     "data": {
      "text/plain": [
       "'Как защитить метаЛЛ от коРРозИИ?'"
      ]
     },
     "execution_count": 33,
     "metadata": {},
     "output_type": "execute_result"
    }
   ],
   "source": [
    "# Найдём все большие буквы и выделим их в верхнем регистре\n",
    "re.sub(r'(\\w)\\1', lambda r: r.group(0).upper(), text)"
   ]
  },
  {
   "cell_type": "code",
   "execution_count": null,
   "metadata": {},
   "outputs": [],
   "source": []
  },
  {
   "cell_type": "code",
   "execution_count": null,
   "metadata": {},
   "outputs": [],
   "source": []
  },
  {
   "cell_type": "code",
   "execution_count": null,
   "metadata": {},
   "outputs": [],
   "source": []
  },
  {
   "cell_type": "code",
   "execution_count": null,
   "metadata": {},
   "outputs": [],
   "source": []
  },
  {
   "cell_type": "code",
   "execution_count": null,
   "metadata": {},
   "outputs": [],
   "source": []
  },
  {
   "cell_type": "code",
   "execution_count": null,
   "metadata": {},
   "outputs": [],
   "source": []
  },
  {
   "cell_type": "code",
   "execution_count": null,
   "metadata": {},
   "outputs": [],
   "source": []
  },
  {
   "cell_type": "code",
   "execution_count": null,
   "metadata": {},
   "outputs": [],
   "source": []
  }
 ],
 "metadata": {
  "kernelspec": {
   "display_name": "Python 3",
   "language": "python",
   "name": "python3"
  },
  "language_info": {
   "codemirror_mode": {
    "name": "ipython",
    "version": 3
   },
   "file_extension": ".py",
   "mimetype": "text/x-python",
   "name": "python",
   "nbconvert_exporter": "python",
   "pygments_lexer": "ipython3",
   "version": "3.6.5"
  }
 },
 "nbformat": 4,
 "nbformat_minor": 2
}
