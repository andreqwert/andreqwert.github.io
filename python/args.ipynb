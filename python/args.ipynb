{
 "cells": [
  {
   "cell_type": "markdown",
   "metadata": {},
   "source": [
    "# Аргументы"
   ]
  },
  {
   "cell_type": "markdown",
   "metadata": {},
   "source": [
    "Можно вызвать функцию лишь с обязательными аргументами, остальное дополнится из аргументов по умолчанию "
   ]
  },
  {
   "cell_type": "code",
   "execution_count": 1,
   "metadata": {},
   "outputs": [],
   "source": [
    "def fun(x, y, a=3, b='QKRQ', c=6):\n",
    "    print(x, y, a, b, c)"
   ]
  },
  {
   "cell_type": "code",
   "execution_count": 2,
   "metadata": {},
   "outputs": [
    {
     "name": "stdout",
     "output_type": "stream",
     "text": [
      "1 2 3 QKRQ 6\n"
     ]
    }
   ],
   "source": [
    "fun(1, 2)"
   ]
  },
  {
   "cell_type": "markdown",
   "metadata": {},
   "source": [
    "Эта функция принимает любое количество любых аргументов: и обязательных `(*args)`, и именованных `(**kwargs)`"
   ]
  },
  {
   "cell_type": "code",
   "execution_count": 6,
   "metadata": {},
   "outputs": [
    {
     "name": "stdout",
     "output_type": "stream",
     "text": [
      "('Math', 'Art')\n",
      "{'name': 'John', 'age': 22}\n"
     ]
    }
   ],
   "source": [
    "def students_info(*args, **kwargs):\n",
    "    print(args)   # печатает все ОБЯЗАТЕЛЬНЫЕ аргументы, переданные в функцию пр вызове\n",
    "    print(kwargs) # печатает все НЕОБЯЗАТЕЛЬНЫЕ аргументы, переданные в функцию пр вызове\n",
    "\n",
    "students_info('Math', 'Art', name='John', age=22)"
   ]
  },
  {
   "cell_type": "markdown",
   "metadata": {},
   "source": [
    "Вызов происходит тогда, когда данный файл НЕ ИМПОРТИРОВАН через `[from *] import **`"
   ]
  },
  {
   "cell_type": "code",
   "execution_count": 9,
   "metadata": {},
   "outputs": [
    {
     "name": "stdout",
     "output_type": "stream",
     "text": [
      "Hello,  201001\n"
     ]
    }
   ],
   "source": [
    "def fun(a):\n",
    "    '''Dummy function'''\n",
    "    return a*2 + 1\n",
    "\n",
    "if __name__ == '__main__':\n",
    "    print('Hello, ', fun(100500))"
   ]
  },
  {
   "cell_type": "markdown",
   "metadata": {},
   "source": [
    "Распаковываем переменные с обязательными (`*`) и необязательными (`**`) аргументами, переданными функции на вход:"
   ]
  },
  {
   "cell_type": "code",
   "execution_count": 11,
   "metadata": {},
   "outputs": [
    {
     "name": "stdout",
     "output_type": "stream",
     "text": [
      "('Math', 'Art')\n",
      "{'name': 'John', 'age': 22}\n"
     ]
    }
   ],
   "source": [
    "def pupils_info(*args, **kwargs):\n",
    "    print(args)\n",
    "    print(kwargs)\n",
    "\n",
    "courses = ['Math', 'Art']\n",
    "info = {'name': 'John', 'age': 22}\n",
    "\n",
    "pupils_info(*courses, **info)"
   ]
  }
 ],
 "metadata": {
  "kernelspec": {
   "display_name": "Python 3",
   "language": "python",
   "name": "python3"
  },
  "language_info": {
   "codemirror_mode": {
    "name": "ipython",
    "version": 3
   },
   "file_extension": ".py",
   "mimetype": "text/x-python",
   "name": "python",
   "nbconvert_exporter": "python",
   "pygments_lexer": "ipython3",
   "version": "3.6.5"
  }
 },
 "nbformat": 4,
 "nbformat_minor": 2
}
