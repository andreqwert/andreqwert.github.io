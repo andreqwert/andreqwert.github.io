{
 "cells": [
  {
   "cell_type": "markdown",
   "metadata": {},
   "source": [
    "# Классы"
   ]
  },
  {
   "cell_type": "markdown",
   "metadata": {},
   "source": [
    "Пользоваться классами нужно тогда, когда имеется большое количество *одинаковых атрибутов* для разных людей/вещей/объектов.       \n",
    "Наглядно это поясняет следующая картинка:\n",
    "<img src=\"images/dogs.png\" width=400px height=400px>"
   ]
  },
  {
   "cell_type": "code",
   "execution_count": 2,
   "metadata": {},
   "outputs": [
    {
     "name": "stdout",
     "output_type": "stream",
     "text": [
      "Имя собаки:  Lassie\n",
      "Температура собаки:  37\n"
     ]
    }
   ],
   "source": [
    "# определение класса объектов Dog\n",
    "class Dog:\n",
    "    # метод для инициализации объекта внутренними данными\n",
    "    def __init__(self, petname, temp):\n",
    "        self.name = petname\n",
    "        self.temperature = temp\n",
    "\n",
    "    # получить состояние\n",
    "    def status(self):\n",
    "        print('Имя собаки: ', self.name)\n",
    "        print('Температура собаки: ', self.temperature)\n",
    "        pass\n",
    "\n",
    "    # задать температуру\n",
    "    def setTemperature(self, temp):\n",
    "        self.temperature = temp\n",
    "        pass\n",
    "\n",
    "    # собаки могут лаять\n",
    "    def bark(self):\n",
    "        print('Гав!')\n",
    "        pass\n",
    "    pass\n",
    "\n",
    "# создать новый объект собаки на основе класса\n",
    "lassie = Dog('Lassie', 37)\n",
    "lassie.status()"
   ]
  },
  {
   "cell_type": "markdown",
   "metadata": {},
   "source": [
    "Ещё один пример применения классов:"
   ]
  },
  {
   "cell_type": "code",
   "execution_count": 3,
   "metadata": {},
   "outputs": [
    {
     "name": "stdout",
     "output_type": "stream",
     "text": [
      "Corey.Schafer@company.com\n",
      "Test.User@company.com\n"
     ]
    }
   ],
   "source": [
    "class Employee:\n",
    "    def __init__(self, first, last, pay):\n",
    "        self.first = first\n",
    "        self.last = last\n",
    "        self.pay = pay\n",
    "        self.email = first + '.' + last + '@company.com'\n",
    "\n",
    "    def fullname(self):\n",
    "        \"\"\"Выводим полное имя любого сотрудника, для которого передан аргумент self\"\"\"\n",
    "        return '{} {}'.format(self.first, self.last)\n",
    "\n",
    "\n",
    "# Первому работнику будет передан аргумент self, и затем первому работнику будут установлены все атрибуты метода init\n",
    "emp_1 = Employee('Corey', 'Schafer', 50000)\n",
    "emp_2 = Employee('Test', 'User', 60000)\n",
    "\n",
    "print(emp_1.email) \n",
    "print(emp_2.email) "
   ]
  }
 ],
 "metadata": {
  "kernelspec": {
   "display_name": "Python 3",
   "language": "python",
   "name": "python3"
  },
  "language_info": {
   "codemirror_mode": {
    "name": "ipython",
    "version": 3
   },
   "file_extension": ".py",
   "mimetype": "text/x-python",
   "name": "python",
   "nbconvert_exporter": "python",
   "pygments_lexer": "ipython3",
   "version": "3.6.5"
  }
 },
 "nbformat": 4,
 "nbformat_minor": 2
}
