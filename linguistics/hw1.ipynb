{
 "cells": [
  {
   "cell_type": "markdown",
   "metadata": {},
   "source": [
    "# Задание 1"
   ]
  },
  {
   "cell_type": "markdown",
   "metadata": {},
   "source": [
    "## #1\n",
    "Напишите программу, получающую на вход положительное целое число $k$ и вычисляющую наибольшее целое число $m$ такое, что $2^{m} \\le k$. Пользоваться возведением в степень и логарифмированием запрещено."
   ]
  },
  {
   "cell_type": "code",
   "execution_count": 2,
   "metadata": {},
   "outputs": [
    {
     "name": "stdout",
     "output_type": "stream",
     "text": [
      "Enter k: 36\n",
      "m:  5\n"
     ]
    }
   ],
   "source": [
    "k = int(input('Enter k: '))\n",
    "m = 0\n",
    "\n",
    "while 2 ** m <= k:\n",
    "    m += 1\n",
    "print('m: ', m - 1)"
   ]
  },
  {
   "cell_type": "markdown",
   "metadata": {},
   "source": [
    "## #2"
   ]
  },
  {
   "cell_type": "markdown",
   "metadata": {},
   "source": [
    "Напишите программу, получающую на вход число $N \\ \\ (1 \\le N \\le 31) $ и название дня недели $D$ и возвращающую день недели первого дня того же месяца при условии, что $N$-ый день месяца был днём $D$."
   ]
  },
  {
   "cell_type": "code",
   "execution_count": 10,
   "metadata": {},
   "outputs": [
    {
     "name": "stdout",
     "output_type": "stream",
     "text": [
      "Введите число: 25\n",
      "Введите день недели: среда\n",
      "воскресенье\n"
     ]
    }
   ],
   "source": [
    "def input_num_date():\n",
    "    N = int(input('Введите число: '))\n",
    "    if (N < 1) or (N > 31):\n",
    "        print('Неверный формат. Число должно быть целым и лежать в диапазоне от 1 до 31')\n",
    "        input_num_date()\n",
    "    return N\n",
    "\n",
    "\n",
    "def input_week_day():\n",
    "    week_days = ['понедельник', 'вторник', 'среда', 'четверг', 'пятница', 'суббота', 'воскресенье']\n",
    "    D = str(input('Введите день недели: '))\n",
    "    if D not in week_days:\n",
    "        print('Неправильный день недели. Перепишите.')\n",
    "        input_week_day()\n",
    "    return D, week_days\n",
    "\n",
    "\n",
    "def calculate_first_day_week(N, D, week_days):\n",
    "    N = N % 7 #check the distance to the first day\n",
    "    first_week_day = week_days.index(D) - N\n",
    "    print(week_days[first_week_day + 1])\n",
    "\n",
    "\n",
    "\n",
    "num_date = input_num_date()\n",
    "week_day = input_week_day()\n",
    "calculate_first_day_week(num_date, week_day[0], week_day[1])"
   ]
  },
  {
   "cell_type": "markdown",
   "metadata": {},
   "source": [
    "## #3"
   ]
  },
  {
   "cell_type": "markdown",
   "metadata": {},
   "source": [
    "Пусть бассейн имеет форму прямоугольника размера $m \\times n$, а пловец находится в точке $(k, l)$. Найдите расстояние от него до ближайшей точки бортика. Гарантируется, что пловец внутри бассейна. На входе программе подаётся четыре числа $m, n, k, l$ на отдельных строчках."
   ]
  },
  {
   "cell_type": "code",
   "execution_count": 20,
   "metadata": {},
   "outputs": [
    {
     "name": "stdout",
     "output_type": "stream",
     "text": [
      "m: 7\n",
      "n: 7\n",
      "k: 5\n",
      "l: 4\n",
      "Minimal distance:  2\n"
     ]
    }
   ],
   "source": [
    "m, n, k, l = int(input('m: ')), int(input('n: ')), int(input('k: ')), int(input('l: '))\n",
    "\n",
    "\n",
    "if (m < k) or (n < l):\n",
    "    print('Incorrect coordinates')\n",
    "diff_m = m - k\n",
    "diff_n = n - l\n",
    "print('Minimal distance: ', min(diff_m, diff_n))"
   ]
  },
  {
   "cell_type": "markdown",
   "metadata": {},
   "source": [
    "## #4"
   ]
  },
  {
   "cell_type": "markdown",
   "metadata": {},
   "source": [
    "Напишите программу, получающую на вход число минут, прошедшее с начала дня, и возвращающую время в часах и минутах в 24-часовом формате через двоеточие"
   ]
  },
  {
   "cell_type": "code",
   "execution_count": 24,
   "metadata": {},
   "outputs": [
    {
     "name": "stdout",
     "output_type": "stream",
     "text": [
      "Minutes: 51\n",
      "0:51\n"
     ]
    }
   ],
   "source": [
    "minutes = int(input('Minutes: '))\n",
    "\n",
    "hours_24format = (minutes // 60) % 24\n",
    "minutes_24format = minutes % 60\n",
    "print(str(hours_24format) + ':' + str(minutes_24format))"
   ]
  }
 ],
 "metadata": {
  "kernelspec": {
   "display_name": "Python 3",
   "language": "python",
   "name": "python3"
  },
  "language_info": {
   "codemirror_mode": {
    "name": "ipython",
    "version": 3
   },
   "file_extension": ".py",
   "mimetype": "text/x-python",
   "name": "python",
   "nbconvert_exporter": "python",
   "pygments_lexer": "ipython3",
   "version": "3.6.3"
  }
 },
 "nbformat": 4,
 "nbformat_minor": 2
}
