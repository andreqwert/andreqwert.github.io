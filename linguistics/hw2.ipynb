{
 "cells": [
  {
   "cell_type": "markdown",
   "metadata": {},
   "source": [
    "### Замена регистра слов на противоположный. Если есть спецсимволы или кодировка не utf-8, выводит *ERROR*."
   ]
  },
  {
   "cell_type": "code",
   "execution_count": 84,
   "metadata": {},
   "outputs": [
    {
     "name": "stdout",
     "output_type": "stream",
     "text": [
      "Enter the string: msu\n",
      "MSU\n"
     ]
    }
   ],
   "source": [
    "#1. \n",
    "from string import punctuation # А как тут обойтись вообще без доп. библиотек?\n",
    "\n",
    "entered = str(input('Enter the string: '))\n",
    "\n",
    "\n",
    "def check_spec_characters(entered):\n",
    "    check_failed = [letter for letter in punctuation if letter in entered]\n",
    "    if check_failed:\n",
    "        return 1\n",
    "    else:\n",
    "        return 0\n",
    "\n",
    "\n",
    "def check_eng_symbols(entered):\n",
    "    try:\n",
    "        entered.encode(encoding='utf-8').decode('ascii')\n",
    "    except UnicodeDecodeError:\n",
    "        return 1\n",
    "    else:\n",
    "        return 0\n",
    "\n",
    "\n",
    "if ((check_spec_characters(entered) == 0) and (check_eng_symbols(entered) == 0)):\n",
    "    entered = list(entered)\n",
    "    concateneted = []\n",
    "    for letter in entered:\n",
    "        if letter.isupper():\n",
    "            letter = letter.lower()\n",
    "            concateneted.append(str(letter))\n",
    "        elif letter.islower():\n",
    "            letter = letter.upper()\n",
    "            concateneted.append(str(letter))\n",
    "    concateneted = ''.join(concateneted)\n",
    "    print(concateneted)\n",
    "else:\n",
    "    print('ERROR')"
   ]
  },
  {
   "cell_type": "markdown",
   "metadata": {},
   "source": [
    "### Получаем на вход число $N$ и печатаем от 1 до $N^2$ в формате таблички $N*N$."
   ]
  },
  {
   "cell_type": "code",
   "execution_count": 35,
   "metadata": {},
   "outputs": [
    {
     "name": "stdout",
     "output_type": "stream",
     "text": [
      "Enter N: 4\n",
      "[[ 1  5  9 13]\n",
      " [ 2  6 10 14]\n",
      " [ 3  7 11 15]\n",
      " [ 4  8 12 16]]\n"
     ]
    }
   ],
   "source": [
    "#2. \n",
    "import numpy as np\n",
    "\n",
    "N = int(input('Enter N: '))\n",
    "\n",
    "typed = np.arange(1, N*N+1, 1)\n",
    "typed = typed.reshape(N, N, order='F') # the first index changing fastest, and the last index changing slowest\n",
    "print(typed)"
   ]
  },
  {
   "cell_type": "markdown",
   "metadata": {},
   "source": [
    "### Программа получает на вход числа $x$ и $k$ и выводит сумму $1^k + ... + x^k$."
   ]
  },
  {
   "cell_type": "code",
   "execution_count": 55,
   "metadata": {},
   "outputs": [
    {
     "name": "stdout",
     "output_type": "stream",
     "text": [
      "8 1\n",
      "36\n"
     ]
    }
   ],
   "source": [
    "#3 \n",
    "x, k = map(int, input().split())\n",
    "\n",
    "summ = 0\n",
    "for i in range(1, x+1):\n",
    "    summ += (i ** k)\n",
    "\n",
    "print(summ)"
   ]
  },
  {
   "cell_type": "markdown",
   "metadata": {},
   "source": [
    "### Программа получает на вход предложение на английском языке и заменяет в нём артикли $a$ или $an$ на $the$."
   ]
  },
  {
   "cell_type": "code",
   "execution_count": 110,
   "metadata": {},
   "outputs": [
    {
     "name": "stdout",
     "output_type": "stream",
     "text": [
      "Something to drink - a glass of wine\n",
      "Something to drink - the glass of wine\n"
     ]
    }
   ],
   "source": [
    "#4 Мне не нравится этот повторяющийся код, но до более изящного решения не додумался. А оно тут есть?\n",
    "\n",
    "sentence = str(input())\n",
    "splitted = sentence.split(' ')\n",
    "\n",
    "\n",
    "# Заменяем слово следующим способом: берем найденный по 'if' элемент в списке и удаляем его. Заместо старого элемента ставим новый.\n",
    "for every_word in splitted:\n",
    "    if (every_word == 'a') | (every_word == 'an'):\n",
    "        place_to_paste = splitted.index(every_word)\n",
    "        splitted.remove(every_word)\n",
    "        splitted.insert(place_to_paste, 'the')\n",
    "        improved = ' '.join(splitted)\n",
    "        \n",
    "    elif (every_word.isupper() == True) & ((every_word == 'AN') | (every_word == 'A')):\n",
    "        place_to_paste = splitted.index(every_word)\n",
    "        splitted.remove(every_word)\n",
    "        splitted.insert(place_to_paste, 'THE')\n",
    "        improved = ' '.join(splitted)\n",
    "        \n",
    "    elif (every_word == 'A') | (every_word == 'An'):\n",
    "        place_to_paste = splitted.index(every_word)\n",
    "        splitted.remove(every_word)\n",
    "        splitted.insert(place_to_paste, 'The')\n",
    "        improved = ' '.join(splitted)\n",
    "\n",
    "print(improved)\n",
    "        "
   ]
  }
 ],
 "metadata": {
  "kernelspec": {
   "display_name": "Python 3",
   "language": "python",
   "name": "python3"
  },
  "language_info": {
   "codemirror_mode": {
    "name": "ipython",
    "version": 3
   },
   "file_extension": ".py",
   "mimetype": "text/x-python",
   "name": "python",
   "nbconvert_exporter": "python",
   "pygments_lexer": "ipython3",
   "version": "3.6.3"
  }
 },
 "nbformat": 4,
 "nbformat_minor": 1
}
