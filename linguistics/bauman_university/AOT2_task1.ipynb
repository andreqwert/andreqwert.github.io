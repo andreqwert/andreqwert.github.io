{
 "cells": [
  {
   "cell_type": "markdown",
   "metadata": {},
   "source": [
    "# Домашнее задание №2\n",
    "## Задание 1\n",
    "Встретилось слово **hodtel**       \n",
    "Какое слово наиболее вероятно: *hotel* или *hostel*?\n",
    "\n",
    "Исходные данные:   \n",
    "- Ошибка `od|o` встречалась 9 раз;\n",
    "- Ошибка `d|s` встречалась 7 раз;\n",
    "- *hotel* встречается в 5 раз чаще, чем *hostel*;\n",
    "- Буква `o` встречается в корпусе в 1,2 раза чаще, чем буква `s`."
   ]
  },
  {
   "cell_type": "markdown",
   "metadata": {},
   "source": [
    "#### Без сглаживания\n",
    "1. Пусть встречаемость слова `hostel` равняется `x`.     \n",
    "   Тогда встречаемость слова `hotel` равняется `5x`.\n",
    "\n",
    "2. Ошибка - замена слова `hostel` на `hotel` произошла 9 раз => $sub[od, o] = 9$.    \n",
    "   Ошибка - замена слова `hostel` на `hostel` произошла 7 раз => $sub[d, s] = 7$.\n",
    "\n",
    "3. Пусть встречаемость буквы `s` равна `y`.     \n",
    "   Тогда встречаемость буквы `o` равна `1.2y`.\n",
    "   \n",
    "   $P(w|x) = P(x|w)*P(w)$, где $P(x|w) = \\frac{sub[x_i, w_i]}{count[w_i]}$ \n",
    "   \n",
    "   $P(hodtel|hotel)  = \\frac{9}{1,2y}*5x $\n",
    "   \n",
    "   $P(hostel|hotel) = \\frac{7}{y}*x $\n",
    "   \n",
    "   $\\frac{P(hotel)}{P(hostel)} = \\frac{\\frac{9}{1,2y}*5x}{\\frac{7}{y}*x} = \\frac{450}{84} \\approx 5,357 \\Rightarrow$ слово **hotel** более вероятно, чем слово **hostel**, примерно в 5,357 раз"
   ]
  },
  {
   "cell_type": "markdown",
   "metadata": {},
   "source": [
    "**Аддитивное сглаживание**"
   ]
  },
  {
   "cell_type": "markdown",
   "metadata": {},
   "source": [
    "Для аддитивного сглажвания $P(x|w) = \\frac{sub[x_i, w_i] + 1}{count[w_i] + |A|}$, где $|A|$ - алфавит символов (= число разных символов, которые могут попасться!).\n",
    "\n",
    "$P(w|x) = \\frac{sub[x_i, w_i] + 1}{count[w_i] + |A|}*P(w)$"
   ]
  },
  {
   "cell_type": "markdown",
   "metadata": {},
   "source": [
    "   $P(hodtel|hotel)  = \\frac{9 + 1}{1,2y + |A|}*5x$\n",
    "   \n",
    "   $P(hostel|hotel) = \\frac{7 + 1}{y + |A|}*x $\n",
    "   \n",
    "   $\\frac{P(hotel)}{P(hostel)} = \\frac{\\frac{9 + 1}{1,2y + |A|}*5x}{\\frac{7 + 1}{y + |A|}*x} = \\frac{\\frac{50}{1,2y + |A|}}{\\frac{8}{y + |A|}} = \\frac{25(y+|A|)}{4(1,2y+|A|)} \\Rightarrow$ слово **hotel** более вероятно, чем слово **hostel**, так как при любой встречаемости буквы `s` число в числителе больше, чем число в знаменателе"
   ]
  },
  {
   "cell_type": "code",
   "execution_count": null,
   "metadata": {},
   "outputs": [],
   "source": []
  }
 ],
 "metadata": {
  "kernelspec": {
   "display_name": "Python 3",
   "language": "python",
   "name": "python3"
  },
  "language_info": {
   "codemirror_mode": {
    "name": "ipython",
    "version": 3
   },
   "file_extension": ".py",
   "mimetype": "text/x-python",
   "name": "python",
   "nbconvert_exporter": "python",
   "pygments_lexer": "ipython3",
   "version": "3.6.5"
  }
 },
 "nbformat": 4,
 "nbformat_minor": 2
}
