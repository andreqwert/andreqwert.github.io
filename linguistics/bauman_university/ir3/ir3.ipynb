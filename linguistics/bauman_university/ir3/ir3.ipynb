{
 "cells": [
  {
   "cell_type": "markdown",
   "metadata": {},
   "source": [
    "# Домашнее задание №3\n",
    "\n",
    "Асланов А.Б., ИУ9-21М"
   ]
  },
  {
   "cell_type": "markdown",
   "metadata": {},
   "source": [
    "При разметке релевантных документов эксперты использовали шкалу от 0 (нерелевантные документы) до 4 баллов.\n",
    "При тестировании систем выяснилось, что системы выдали следующие результаты поиска ответов на запрос:     \n",
    "  - Система 1: 4, 2, 3, 1, 2, 0 (и далее 0)     \n",
    "  - Система 2: 3, 2, 4, 4, 4., далее 0.     \n",
    " \n",
    "Какая система ищет лучше по мере NDCG?"
   ]
  },
  {
   "cell_type": "markdown",
   "metadata": {},
   "source": [
    "Вычислим значения DCG для обеих поисковых систем после ранжирования по релевантности поисковой выдачи:\n",
    "<img src=\"res5.png\" width=400, height=400>"
   ]
  },
  {
   "attachments": {},
   "cell_type": "markdown",
   "metadata": {},
   "source": [
    "Так как $nDCG = \\frac{DCG_p}{IDCG_p}$, то:\n",
    "- для первой системы $nDCG = \\frac{27,05}{IDCG}$;    \n",
    "- для второй системы $nDCG = \\frac{35,185}{IDCG}$.\n",
    "\n",
    "Так как систем две, а запрос один и тот же, то IDCG не оказывает влияния на суммированную оценку выдачи.       \n",
    "Ответ: лучше ищет система 2."
   ]
  },
  {
   "cell_type": "code",
   "execution_count": null,
   "metadata": {},
   "outputs": [],
   "source": []
  }
 ],
 "metadata": {
  "kernelspec": {
   "display_name": "Python 3",
   "language": "python",
   "name": "python3"
  },
  "language_info": {
   "codemirror_mode": {
    "name": "ipython",
    "version": 3
   },
   "file_extension": ".py",
   "mimetype": "text/x-python",
   "name": "python",
   "nbconvert_exporter": "python",
   "pygments_lexer": "ipython3",
   "version": "3.6.6"
  }
 },
 "nbformat": 4,
 "nbformat_minor": 2
}
