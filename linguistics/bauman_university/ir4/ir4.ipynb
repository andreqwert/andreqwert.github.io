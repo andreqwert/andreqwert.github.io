{
 "cells": [
  {
   "cell_type": "markdown",
   "metadata": {},
   "source": [
    "# Домашнее задание №4\n",
    "\n",
    "Асланов А.Б., ИУ9-21М"
   ]
  },
  {
   "cell_type": "markdown",
   "metadata": {},
   "source": [
    "**Алгоритм Роккьо** - использует векторное пространство, чтобы найти лучший запрос на основе пользовательской разметки."
   ]
  },
  {
   "cell_type": "code",
   "execution_count": 1,
   "metadata": {},
   "outputs": [],
   "source": [
    "import pandas as pd\n",
    "import numpy as np\n",
    "\n",
    "alpha = 0.7\n",
    "beta = 0.3\n",
    "documents_num = 1000000   # общее число документов\n",
    "relevant_docs_vecs = 2   # множество известных релевантных doc-векторов\n",
    "\n",
    "d = {'words':['отбор', 'кандидат', 'отобрать', 'претендент', 'выбрать'],\n",
    "     'TF_d1':[0,1,1,1,0],\n",
    "     'TF_d2':[1,0,0,1,1],\n",
    "     'q':[1,1,0,0,0],\n",
    "     'df':[70000, 70000, 30000, 50000, 70000]\n",
    "     }\n",
    "\n",
    "dataframe = pd.DataFrame(data=d)"
   ]
  },
  {
   "cell_type": "markdown",
   "metadata": {},
   "source": [
    "TF-IDF считаем по формуле:\n",
    "\n",
    "$tfidf_{d}=tf*idf=ln(TF_{d} + 1)*log_{10}(\\frac{documents\\_num}{df})$"
   ]
  },
  {
   "cell_type": "code",
   "execution_count": 2,
   "metadata": {},
   "outputs": [],
   "source": [
    "dataframe['idf'] = np.log10(documents_num/dataframe['df'])\n",
    "dataframe['d1_tf-idf'] = np.log(dataframe['TF_d1']+1)*dataframe['idf']\n",
    "dataframe['d2_tf-idf'] = np.log(dataframe['TF_d2']+1)*dataframe['idf']"
   ]
  },
  {
   "cell_type": "code",
   "execution_count": 3,
   "metadata": {},
   "outputs": [
    {
     "data": {
      "text/html": [
       "<div>\n",
       "<style scoped>\n",
       "    .dataframe tbody tr th:only-of-type {\n",
       "        vertical-align: middle;\n",
       "    }\n",
       "\n",
       "    .dataframe tbody tr th {\n",
       "        vertical-align: top;\n",
       "    }\n",
       "\n",
       "    .dataframe thead th {\n",
       "        text-align: right;\n",
       "    }\n",
       "</style>\n",
       "<table border=\"1\" class=\"dataframe\">\n",
       "  <thead>\n",
       "    <tr style=\"text-align: right;\">\n",
       "      <th></th>\n",
       "      <th>TF_d1</th>\n",
       "      <th>TF_d2</th>\n",
       "      <th>df</th>\n",
       "      <th>q</th>\n",
       "      <th>words</th>\n",
       "      <th>idf</th>\n",
       "      <th>d1_tf-idf</th>\n",
       "      <th>d2_tf-idf</th>\n",
       "    </tr>\n",
       "  </thead>\n",
       "  <tbody>\n",
       "    <tr>\n",
       "      <th>0</th>\n",
       "      <td>0</td>\n",
       "      <td>1</td>\n",
       "      <td>70000</td>\n",
       "      <td>1</td>\n",
       "      <td>отбор</td>\n",
       "      <td>1.154902</td>\n",
       "      <td>0.000000</td>\n",
       "      <td>0.800517</td>\n",
       "    </tr>\n",
       "    <tr>\n",
       "      <th>1</th>\n",
       "      <td>1</td>\n",
       "      <td>0</td>\n",
       "      <td>70000</td>\n",
       "      <td>1</td>\n",
       "      <td>кандидат</td>\n",
       "      <td>1.154902</td>\n",
       "      <td>0.800517</td>\n",
       "      <td>0.000000</td>\n",
       "    </tr>\n",
       "    <tr>\n",
       "      <th>2</th>\n",
       "      <td>1</td>\n",
       "      <td>0</td>\n",
       "      <td>30000</td>\n",
       "      <td>0</td>\n",
       "      <td>отобрать</td>\n",
       "      <td>1.522879</td>\n",
       "      <td>1.055579</td>\n",
       "      <td>0.000000</td>\n",
       "    </tr>\n",
       "    <tr>\n",
       "      <th>3</th>\n",
       "      <td>1</td>\n",
       "      <td>1</td>\n",
       "      <td>50000</td>\n",
       "      <td>0</td>\n",
       "      <td>претендент</td>\n",
       "      <td>1.301030</td>\n",
       "      <td>0.901805</td>\n",
       "      <td>0.901805</td>\n",
       "    </tr>\n",
       "    <tr>\n",
       "      <th>4</th>\n",
       "      <td>0</td>\n",
       "      <td>1</td>\n",
       "      <td>70000</td>\n",
       "      <td>0</td>\n",
       "      <td>выбрать</td>\n",
       "      <td>1.154902</td>\n",
       "      <td>0.000000</td>\n",
       "      <td>0.800517</td>\n",
       "    </tr>\n",
       "  </tbody>\n",
       "</table>\n",
       "</div>"
      ],
      "text/plain": [
       "   TF_d1  TF_d2     df  q       words       idf  d1_tf-idf  d2_tf-idf\n",
       "0      0      1  70000  1       отбор  1.154902   0.000000   0.800517\n",
       "1      1      0  70000  1    кандидат  1.154902   0.800517   0.000000\n",
       "2      1      0  30000  0    отобрать  1.522879   1.055579   0.000000\n",
       "3      1      1  50000  0  претендент  1.301030   0.901805   0.901805\n",
       "4      0      1  70000  0     выбрать  1.154902   0.000000   0.800517"
      ]
     },
     "execution_count": 3,
     "metadata": {},
     "output_type": "execute_result"
    }
   ],
   "source": [
    "dataframe"
   ]
  },
  {
   "cell_type": "code",
   "execution_count": 7,
   "metadata": {},
   "outputs": [
    {
     "data": {
      "text/html": [
       "<div>\n",
       "<style scoped>\n",
       "    .dataframe tbody tr th:only-of-type {\n",
       "        vertical-align: middle;\n",
       "    }\n",
       "\n",
       "    .dataframe tbody tr th {\n",
       "        vertical-align: top;\n",
       "    }\n",
       "\n",
       "    .dataframe thead th {\n",
       "        text-align: right;\n",
       "    }\n",
       "</style>\n",
       "<table border=\"1\" class=\"dataframe\">\n",
       "  <thead>\n",
       "    <tr style=\"text-align: right;\">\n",
       "      <th></th>\n",
       "      <th>TF_d1</th>\n",
       "      <th>TF_d2</th>\n",
       "      <th>df</th>\n",
       "      <th>q</th>\n",
       "      <th>words</th>\n",
       "      <th>idf</th>\n",
       "      <th>d1_tf-idf</th>\n",
       "      <th>d2_tf-idf</th>\n",
       "      <th>d1_norm</th>\n",
       "      <th>d2_norm</th>\n",
       "    </tr>\n",
       "  </thead>\n",
       "  <tbody>\n",
       "    <tr>\n",
       "      <th>0</th>\n",
       "      <td>0</td>\n",
       "      <td>1</td>\n",
       "      <td>70000</td>\n",
       "      <td>1</td>\n",
       "      <td>отбор</td>\n",
       "      <td>1.154902</td>\n",
       "      <td>0.000000</td>\n",
       "      <td>0.800517</td>\n",
       "      <td>0.000000</td>\n",
       "      <td>0.957963</td>\n",
       "    </tr>\n",
       "    <tr>\n",
       "      <th>1</th>\n",
       "      <td>1</td>\n",
       "      <td>0</td>\n",
       "      <td>70000</td>\n",
       "      <td>1</td>\n",
       "      <td>кандидат</td>\n",
       "      <td>1.154902</td>\n",
       "      <td>0.800517</td>\n",
       "      <td>0.000000</td>\n",
       "      <td>0.865179</td>\n",
       "      <td>0.000000</td>\n",
       "    </tr>\n",
       "    <tr>\n",
       "      <th>2</th>\n",
       "      <td>1</td>\n",
       "      <td>0</td>\n",
       "      <td>30000</td>\n",
       "      <td>0</td>\n",
       "      <td>отобрать</td>\n",
       "      <td>1.522879</td>\n",
       "      <td>1.055579</td>\n",
       "      <td>0.000000</td>\n",
       "      <td>1.140844</td>\n",
       "      <td>0.000000</td>\n",
       "    </tr>\n",
       "    <tr>\n",
       "      <th>3</th>\n",
       "      <td>1</td>\n",
       "      <td>1</td>\n",
       "      <td>50000</td>\n",
       "      <td>0</td>\n",
       "      <td>претендент</td>\n",
       "      <td>1.301030</td>\n",
       "      <td>0.901805</td>\n",
       "      <td>0.901805</td>\n",
       "      <td>0.974649</td>\n",
       "      <td>1.079173</td>\n",
       "    </tr>\n",
       "    <tr>\n",
       "      <th>4</th>\n",
       "      <td>0</td>\n",
       "      <td>1</td>\n",
       "      <td>70000</td>\n",
       "      <td>0</td>\n",
       "      <td>выбрать</td>\n",
       "      <td>1.154902</td>\n",
       "      <td>0.000000</td>\n",
       "      <td>0.800517</td>\n",
       "      <td>0.000000</td>\n",
       "      <td>0.957963</td>\n",
       "    </tr>\n",
       "  </tbody>\n",
       "</table>\n",
       "</div>"
      ],
      "text/plain": [
       "   TF_d1  TF_d2     df  q       words       idf  d1_tf-idf  d2_tf-idf  \\\n",
       "0      0      1  70000  1       отбор  1.154902   0.000000   0.800517   \n",
       "1      1      0  70000  1    кандидат  1.154902   0.800517   0.000000   \n",
       "2      1      0  30000  0    отобрать  1.522879   1.055579   0.000000   \n",
       "3      1      1  50000  0  претендент  1.301030   0.901805   0.901805   \n",
       "4      0      1  70000  0     выбрать  1.154902   0.000000   0.800517   \n",
       "\n",
       "    d1_norm   d2_norm  \n",
       "0  0.000000  0.957963  \n",
       "1  0.865179  0.000000  \n",
       "2  1.140844  0.000000  \n",
       "3  0.974649  1.079173  \n",
       "4  0.000000  0.957963  "
      ]
     },
     "execution_count": 7,
     "metadata": {},
     "output_type": "execute_result"
    }
   ],
   "source": [
    "# Нормировка вектора tf-idf в диапазон [0; 1]\n",
    "dataframe['d1_norm'] = dataframe['d1_tf-idf'] / np.sqrt(sum(dataframe['d1_tf-idf'] ** 2)) * np.sqrt(sum(dataframe['TF_d1']))\n",
    "dataframe['d2_norm'] = dataframe['d2_tf-idf'] / np.sqrt(sum(dataframe['d2_tf-idf'] ** 2)) * np.sqrt(sum(dataframe['TF_d2']))\n",
    "dataframe"
   ]
  },
  {
   "cell_type": "code",
   "execution_count": 8,
   "metadata": {},
   "outputs": [],
   "source": [
    "q_mod = alpha * dataframe['q'] + beta * 1/relevant_docs_vecs * (dataframe['d1_norm'] + dataframe['d2_norm'])"
   ]
  },
  {
   "cell_type": "code",
   "execution_count": 9,
   "metadata": {},
   "outputs": [
    {
     "data": {
      "text/html": [
       "<div>\n",
       "<style scoped>\n",
       "    .dataframe tbody tr th:only-of-type {\n",
       "        vertical-align: middle;\n",
       "    }\n",
       "\n",
       "    .dataframe tbody tr th {\n",
       "        vertical-align: top;\n",
       "    }\n",
       "\n",
       "    .dataframe thead th {\n",
       "        text-align: right;\n",
       "    }\n",
       "</style>\n",
       "<table border=\"1\" class=\"dataframe\">\n",
       "  <thead>\n",
       "    <tr style=\"text-align: right;\">\n",
       "      <th></th>\n",
       "      <th>q_mod</th>\n",
       "      <th>words</th>\n",
       "    </tr>\n",
       "  </thead>\n",
       "  <tbody>\n",
       "    <tr>\n",
       "      <th>0</th>\n",
       "      <td>0.843694</td>\n",
       "      <td>отбор</td>\n",
       "    </tr>\n",
       "    <tr>\n",
       "      <th>1</th>\n",
       "      <td>0.829777</td>\n",
       "      <td>кандидат</td>\n",
       "    </tr>\n",
       "    <tr>\n",
       "      <th>2</th>\n",
       "      <td>0.171127</td>\n",
       "      <td>отобрать</td>\n",
       "    </tr>\n",
       "    <tr>\n",
       "      <th>3</th>\n",
       "      <td>0.308073</td>\n",
       "      <td>претендент</td>\n",
       "    </tr>\n",
       "    <tr>\n",
       "      <th>4</th>\n",
       "      <td>0.143694</td>\n",
       "      <td>выбрать</td>\n",
       "    </tr>\n",
       "  </tbody>\n",
       "</table>\n",
       "</div>"
      ],
      "text/plain": [
       "      q_mod       words\n",
       "0  0.843694       отбор\n",
       "1  0.829777    кандидат\n",
       "2  0.171127    отобрать\n",
       "3  0.308073  претендент\n",
       "4  0.143694     выбрать"
      ]
     },
     "execution_count": 9,
     "metadata": {},
     "output_type": "execute_result"
    }
   ],
   "source": [
    "res = pd.DataFrame({'q_mod':q_mod, 'words':['отбор', 'кандидат', 'отобрать', 'претендент', 'выбрать']})\n",
    "res"
   ]
  },
  {
   "cell_type": "markdown",
   "metadata": {},
   "source": [
    "### Вывод"
   ]
  },
  {
   "cell_type": "markdown",
   "metadata": {},
   "source": [
    "Алгоритм Роккьо описывает обратную связь по релевантности документов. В связи с тем, что слово \"претендент\" встретилось в обоих документах, результат выдал о повышении его вклада в модифицированном векторе запроса."
   ]
  }
 ],
 "metadata": {
  "kernelspec": {
   "display_name": "Python 3",
   "language": "python",
   "name": "python3"
  },
  "language_info": {
   "codemirror_mode": {
    "name": "ipython",
    "version": 3
   },
   "file_extension": ".py",
   "mimetype": "text/x-python",
   "name": "python",
   "nbconvert_exporter": "python",
   "pygments_lexer": "ipython3",
   "version": "3.6.8"
  }
 },
 "nbformat": 4,
 "nbformat_minor": 2
}
