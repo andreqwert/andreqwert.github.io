{
 "cells": [
  {
   "cell_type": "markdown",
   "metadata": {},
   "source": [
    "### Задание 1\n",
    "Напишите программу, получающую на вход строку $s$ и возвращающую результат стягивания всех последовательностей нескольких одинаковых букв, идущих подряд, в одну букву."
   ]
  },
  {
   "cell_type": "code",
   "execution_count": 261,
   "metadata": {},
   "outputs": [],
   "source": [
    "def merge_seq2(s):\n",
    "    letters = s[0] # фиксируем первый букву строки\n",
    "    for letter in s[1:]: # начиная со второй буквы...\n",
    "        if letter != letters[-1]: # если вторая буква НЕ такая же, как предыдущая (=последняя в готовой строке)...\n",
    "            letters += letter # то прибавить ее к первой (=готовой строке)\n",
    "    print(letters)"
   ]
  },
  {
   "cell_type": "code",
   "execution_count": 262,
   "metadata": {},
   "outputs": [
    {
     "name": "stdout",
     "output_type": "stream",
     "text": [
      "abcd\n"
     ]
    }
   ],
   "source": [
    "merge_seq2('aaabcd')"
   ]
  },
  {
   "cell_type": "code",
   "execution_count": 263,
   "metadata": {},
   "outputs": [
    {
     "name": "stdout",
     "output_type": "stream",
     "text": [
      "abcd\n"
     ]
    }
   ],
   "source": [
    "merge_seq2('abcd')"
   ]
  },
  {
   "cell_type": "code",
   "execution_count": 264,
   "metadata": {},
   "outputs": [
    {
     "name": "stdout",
     "output_type": "stream",
     "text": [
      "aAabcdc\n"
     ]
    }
   ],
   "source": [
    "merge_seq2('aAaaabbccdcc')"
   ]
  },
  {
   "cell_type": "code",
   "execution_count": 265,
   "metadata": {},
   "outputs": [
    {
     "name": "stdout",
     "output_type": "stream",
     "text": [
      "a\n"
     ]
    }
   ],
   "source": [
    "merge_seq2('aaaaaaaaaaaa')"
   ]
  },
  {
   "cell_type": "markdown",
   "metadata": {},
   "source": [
    "### Задание 2\n",
    "Напишите программу, получающую на вход число $k$ на отдельной строке, а также $k$ строк, состоящих из натуральных чисел, разделённых пробелами, и выводящую через пробел в порядке убывания все числа, встречающиеся во всех строках."
   ]
  },
  {
   "cell_type": "code",
   "execution_count": 287,
   "metadata": {},
   "outputs": [
    {
     "name": "stdout",
     "output_type": "stream",
     "text": [
      "Enter the strings num: 2\n",
      "11 3\n",
      "2 4\n",
      "[3, 11]\n",
      "[2, 4]\n"
     ]
    }
   ],
   "source": [
    "k = int(input('Enter the strings num: '))\n",
    "strings = []\n",
    "while k > 0:\n",
    "    strings.append(input())\n",
    "    k -= 1\n",
    "for string in strings:\n",
    "    string = [int(elem) for elem in string.split(' ')]\n",
    "    print(sorted(string))"
   ]
  },
  {
   "cell_type": "markdown",
   "metadata": {},
   "source": [
    "### Задание 3\n",
    "Напишите программу, получающую на вход строку $s$ и число $m$ на новой строчке и возвращающую для каждого символа, входящего в $s$, все подстроки длины $m$, входящие в слова внутри $s$ и начинающиеся с данного символа. Слова разделяются по пробельным символам. Ответ выводится в формате <БУКВА><ТАВ><СПИСОК СЛОВ ЧЕРЕЗ ПРОБЕЛ>"
   ]
  },
  {
   "cell_type": "code",
   "execution_count": 386,
   "metadata": {},
   "outputs": [
    {
     "name": "stdout",
     "output_type": "stream",
     "text": [
      "строка\n",
      "3\n"
     ]
    }
   ],
   "source": [
    "s, m = input(), int(input())\n",
    "\n",
    "letters = []\n",
    "for letter in s:\n",
    "    letters.append(letter)\n",
    "\n",
    "#for letter in range(len(letters)-1):   "
   ]
  },
  {
   "cell_type": "code",
   "execution_count": null,
   "metadata": {},
   "outputs": [],
   "source": []
  }
 ],
 "metadata": {
  "kernelspec": {
   "display_name": "Python 3",
   "language": "python",
   "name": "python3"
  },
  "language_info": {
   "codemirror_mode": {
    "name": "ipython",
    "version": 3
   },
   "file_extension": ".py",
   "mimetype": "text/x-python",
   "name": "python",
   "nbconvert_exporter": "python",
   "pygments_lexer": "ipython3",
   "version": "3.6.3"
  }
 },
 "nbformat": 4,
 "nbformat_minor": 2
}
